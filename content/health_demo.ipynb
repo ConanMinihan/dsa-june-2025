{
 "cells": [
  {
   "cell_type": "markdown",
   "id": "900c6eb8",
   "metadata": {},
   "source": [
    "# Health data analysis\n",
    "\n",
    "Oura ring data for last 3 years\n",
    "captures HRV, Sleep, Exercise etc..."
   ]
  },
  {
   "cell_type": "code",
   "execution_count": null,
   "id": "16115277",
   "metadata": {},
   "outputs": [],
   "source": [
    "import numpy as np \n",
    "import pandas as pd \n",
    "import matplotlib.pyplot as plt\n",
    "import matplotlib.dates as mdates\n",
    "import seaborn as sns\n",
    "import pytz\n",
    "\n",
    "from datetime import timedelta\n",
    "from statsmodels.graphics.tsaplots import plot_acf, plot_pacf\n",
    "from sklearn.metrics import mutual_info_score\n",
    "import statsmodels.api as sm\n",
    "\n",
    "from sklearn.preprocessing import StandardScaler\n",
    "\n",
    "\n",
    "\n"
   ]
  },
  {
   "cell_type": "code",
   "execution_count": null,
   "id": "ee9cbf83",
   "metadata": {},
   "outputs": [],
   "source": [
    "# Load data\n",
    "df = pd.read_csv('data/data.csv')\n"
   ]
  },
  {
   "cell_type": "code",
   "execution_count": null,
   "id": "24e7e5bc",
   "metadata": {},
   "outputs": [],
   "source": [
    "# look at data\n",
    "df.head()"
   ]
  },
  {
   "cell_type": "code",
   "execution_count": null,
   "id": "06304777",
   "metadata": {},
   "outputs": [],
   "source": [
    "df.isna().sum()/len(df)"
   ]
  },
  {
   "cell_type": "code",
   "execution_count": null,
   "id": "5e5815f5",
   "metadata": {},
   "outputs": [],
   "source": [
    "# remove NAs\n",
    "df = df.dropna()"
   ]
  },
  {
   "cell_type": "code",
   "execution_count": null,
   "id": "4cd31003",
   "metadata": {},
   "outputs": [],
   "source": [
    "# check type of data\n",
    "df.dtypes"
   ]
  },
  {
   "cell_type": "code",
   "execution_count": null,
   "id": "db11caa4",
   "metadata": {},
   "outputs": [],
   "source": [
    "df['date'] = pd.to_datetime(df['date'], utc=True)\n",
    "df = df.set_index('date')\n",
    "\n"
   ]
  },
  {
   "cell_type": "code",
   "execution_count": null,
   "id": "9f0b7dae",
   "metadata": {},
   "outputs": [],
   "source": [
    "#remove columns with 'score' in the name\n",
    "\n",
    "df_copy = df.copy()\n",
    "df_copy = df_copy.loc[:, ~df_copy.columns.str.contains('score', case=False)]\n",
    "print(\"Current Columns: \",df_copy.columns)\n",
    "print(\"removed columns: \",df.columns[df.columns.str.contains('score', case=False)])"
   ]
  },
  {
   "cell_type": "code",
   "execution_count": null,
   "id": "2d661234",
   "metadata": {},
   "outputs": [],
   "source": [
    "numeric_cols = df_copy.select_dtypes(include=[np.number]).columns.tolist()\n",
    "# Standardize numeric columns | note that we don't have to import any packages for this.\n",
    "scaler = StandardScaler() \n",
    "df_copy[numeric_cols] = scaler.fit_transform(df_copy[numeric_cols])"
   ]
  },
  {
   "cell_type": "markdown",
   "id": "b6db74f1",
   "metadata": {},
   "source": []
  },
  {
   "cell_type": "code",
   "execution_count": null,
   "id": "550a5e0c",
   "metadata": {},
   "outputs": [],
   "source": [
    "df_copy = df_copy.reset_index()"
   ]
  },
  {
   "cell_type": "code",
   "execution_count": null,
   "id": "ab9db006",
   "metadata": {},
   "outputs": [],
   "source": [
    "# plot Average HRV and Resting Heart Rate\n",
    "plt.figure(figsize=(12, 6))\n",
    "plt.plot(df_copy['date'], df_copy['Average HRV'], label='Average HRV', color='blue')\n",
    "plt.plot(df_copy['date'], df_copy['Lowest Resting Heart Rate'], label='Resting Heart Rate', color='orange')\n",
    "\n",
    "plt.xlabel('Date')\n",
    "plt.ylabel('Values')\n",
    "plt.title('Average HRV and Resting Heart Rate Over Time')\n",
    "plt.legend()\n",
    "plt.xticks(rotation=45)\n",
    "plt.tight_layout()"
   ]
  },
  {
   "cell_type": "markdown",
   "id": "da2d3013",
   "metadata": {},
   "source": [
    "# What impacts my sleep score the most?"
   ]
  },
  {
   "cell_type": "code",
   "execution_count": null,
   "id": "8981ee3b",
   "metadata": {},
   "outputs": [],
   "source": [
    "# define targets and features\n",
    "y = df['Sleep Score']\n",
    "X = df_copy\n"
   ]
  },
  {
   "cell_type": "code",
   "execution_count": null,
   "id": "6a2b0da4",
   "metadata": {},
   "outputs": [],
   "source": [
    "# Drop date column from features\n",
    "X = X.drop(columns=['date','Bedtime Start', 'Bedtime End'])\n",
    "\n",
    "# Handle missing values\n",
    "X = X.fillna(X.mean()) # can try RF imputation or other methods as well\n",
    "y = y.fillna(y.mean())"
   ]
  },
  {
   "cell_type": "code",
   "execution_count": null,
   "id": "5c5a4fd5",
   "metadata": {},
   "outputs": [],
   "source": [
    "from sklearn.model_selection import train_test_split\n",
    "X_train, X_test, y_train, y_test = train_test_split(X, y, test_size=0.2, random_state=42)"
   ]
  },
  {
   "cell_type": "code",
   "execution_count": null,
   "id": "33e12a10",
   "metadata": {},
   "outputs": [],
   "source": [
    "from sklearn.ensemble import RandomForestRegressor\n",
    "model = RandomForestRegressor(random_state=42)\n",
    "model.fit(X_train, y_train)"
   ]
  },
  {
   "cell_type": "code",
   "execution_count": null,
   "id": "98723952",
   "metadata": {},
   "outputs": [],
   "source": [
    "from sklearn.metrics import r2_score, mean_absolute_error\n",
    "\n",
    "y_pred = model.predict(X_test)\n",
    "print(\"R² Score:\", r2_score(y_test, y_pred))\n",
    "print(\"MAE:\", mean_absolute_error(y_test, y_pred))"
   ]
  },
  {
   "cell_type": "code",
   "execution_count": null,
   "id": "f578d6d2",
   "metadata": {},
   "outputs": [],
   "source": [
    "importance = model.feature_importances_\n",
    "features = pd.Series(importance, index=X.columns).sort_values(ascending=False)\n",
    "\n",
    "features.plot(kind='bar', title='Feature Importance for Sleep Score')\n",
    "plt.tight_layout()\n",
    "plt.show()"
   ]
  },
  {
   "cell_type": "code",
   "execution_count": null,
   "id": "7ae9dd34",
   "metadata": {},
   "outputs": [],
   "source": [
    "sleep_cols = ['Deep Sleep Duration','Total Sleep Duration', 'Sleep Latency','Light Sleep Duration','REM Sleep Duration','Total Bedtime ','Restless Sleep']\n",
    "sleep_cols.append('Sleep Score')  # include target\n",
    "df_sleep = df[sleep_cols]\n",
    "df_sleep = df_sleep.dropna()\n",
    "# df_sleep = df_sleep.drop(columns =['Bedtime Start', 'Bedtime End'])\n",
    "df_sleep = df_sleep.loc[:, ~df_sleep.columns.duplicated()]  # remove duplicate columns"
   ]
  },
  {
   "cell_type": "code",
   "execution_count": null,
   "id": "c22eecf6",
   "metadata": {},
   "outputs": [],
   "source": [
    "# sleep_cols"
   ]
  },
  {
   "cell_type": "code",
   "execution_count": null,
   "id": "3d6969a2",
   "metadata": {},
   "outputs": [],
   "source": [
    "X = df_sleep.drop(columns='Sleep Score')\n",
    "y = df_sleep['Sleep Score']"
   ]
  },
  {
   "cell_type": "code",
   "execution_count": null,
   "id": "98b06d44",
   "metadata": {},
   "outputs": [],
   "source": [
    "X_train, X_test, y_train, y_test = train_test_split(X, y, test_size=0.2, random_state=42)"
   ]
  },
  {
   "cell_type": "code",
   "execution_count": null,
   "id": "cf45931b",
   "metadata": {},
   "outputs": [],
   "source": [
    "from sklearn.linear_model import LinearRegression\n",
    "\n",
    "model = LinearRegression()\n",
    "model.fit(X_train, y_train)"
   ]
  },
  {
   "cell_type": "code",
   "execution_count": null,
   "id": "92fed128",
   "metadata": {},
   "outputs": [],
   "source": [
    "from sklearn.metrics import r2_score\n",
    "\n",
    "y_pred = model.predict(X_test)\n",
    "print(\"R² Score:\", r2_score(y_test, y_pred))"
   ]
  },
  {
   "cell_type": "code",
   "execution_count": null,
   "id": "69a71b25",
   "metadata": {},
   "outputs": [],
   "source": [
    "coef_df = pd.DataFrame({\n",
    "    'Feature': X.columns,\n",
    "    'Coefficient': model.coef_\n",
    "}).sort_values(by='Coefficient', key=abs, ascending=False)\n",
    "\n",
    "print(coef_df)"
   ]
  },
  {
   "cell_type": "code",
   "execution_count": null,
   "id": "9c899d71",
   "metadata": {},
   "outputs": [],
   "source": []
  }
 ],
 "metadata": {
  "kernelspec": {
   "display_name": "base",
   "language": "python",
   "name": "python3"
  },
  "language_info": {
   "codemirror_mode": {
    "name": "ipython",
    "version": 3
   },
   "file_extension": ".py",
   "mimetype": "text/x-python",
   "name": "python",
   "nbconvert_exporter": "python",
   "pygments_lexer": "ipython3",
   "version": "3.12.7"
  }
 },
 "nbformat": 4,
 "nbformat_minor": 5
}
